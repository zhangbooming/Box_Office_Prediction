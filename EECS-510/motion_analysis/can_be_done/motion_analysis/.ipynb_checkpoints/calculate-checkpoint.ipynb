{
 "cells": [
  {
   "cell_type": "code",
   "execution_count": 1,
   "metadata": {},
   "outputs": [],
   "source": [
    "import numpy as np\n",
    "import json\n",
    "import os\n",
    "def wilson_score(pos, total, p_z=1.96):\n",
    "    \"\"\"\n",
    "    Wilson Score\n",
    "    ref：https://en.wikipedia.org/wiki/Binomial_proportion_confidence_interval\n",
    "    :param pos: positive number\n",
    "    :param total: total number\n",
    "    :param p_z: Normal distribution quantile\n",
    "    :return: wilson score\n",
    "    \"\"\"\n",
    "    pos_rat = pos * 1. / total * 1.  # 正例比率\n",
    "    score = (pos_rat + (np.square(p_z) / (2. * total))\n",
    "             - ((p_z / (2. * total)) * np.sqrt(4. * total * (1. - pos_rat) * pos_rat + np.square(p_z)))) / \\\n",
    "            (1. + np.square(p_z) / total)\n",
    "    return score"
   ]
  },
  {
   "cell_type": "code",
   "execution_count": 2,
   "metadata": {},
   "outputs": [],
   "source": [
    "def Bayesian(C, M, n, s):\n",
    "    return (C*M + n*s) / (n + C)"
   ]
  },
  {
   "cell_type": "code",
   "execution_count": 3,
   "metadata": {},
   "outputs": [],
   "source": [
    "def calc_sentiment_score(file_name):\n",
    "    file_json = []\n",
    "#     print(file_name)\n",
    "    with open(file_name, 'rb') as f:\n",
    "            line = f.readline()\n",
    "            json_data = json.loads(line)\n",
    "            count = 0\n",
    "            for d in json_data:\n",
    "                if d['class'] == 1:\n",
    "                    count += 1\n",
    "            return count\n",
    "        \n",
    "def calc_review_score(file_name):\n",
    "    file_json = []\n",
    "    with open(file_name, 'rb') as f:\n",
    "            line = f.readline()\n",
    "#             line = [l.decode('utf8', 'ignore') for l in f.readlines()]\n",
    "            json_data = json.loads(line)\n",
    "            count = 0\n",
    "            final_score = 0\n",
    "            for d in json_data:\n",
    "                count += 1\n",
    "                score = (int)(d['score'].split(\"/\")[0])\n",
    "#                 print(score)\n",
    "                final_score += score\n",
    "            return final_score / (count * 10)\n",
    "        \n",
    "def save2json(dictObj, filename):\n",
    "    jsonObj = json.dumps(dictObj)\n",
    "    fileObject = open(filename,'w')\n",
    "    fileObject.write(jsonObj)\n",
    "    fileObject.close() "
   ]
  },
  {
   "cell_type": "code",
   "execution_count": 14,
   "metadata": {},
   "outputs": [],
   "source": [
    "def save2json(dictObj, filename):\n",
    "    jsonObj = json.dumps(dictObj)\n",
    "    fileObject = open(filename,'w')\n",
    "    fileObject.write(jsonObj)\n",
    "    fileObject.close()"
   ]
  },
  {
   "cell_type": "code",
   "execution_count": 15,
   "metadata": {
    "scrolled": true
   },
   "outputs": [
    {
     "name": "stdout",
     "output_type": "stream",
     "text": [
      "[]\n"
     ]
    }
   ],
   "source": [
    "prefix_raw_data = \"./raw_data/\"\n",
    "prefix_clean_data = \"./clean_data/\"\n",
    "g = os.walk(prefix_raw_data)\n",
    "res_list = []\n",
    "\n",
    "C = 20\n",
    "M = 0.69\n",
    "for path, d, filelist in g:\n",
    "#     print(d)\n",
    "    for filename in filelist:\n",
    "        res = {}\n",
    "        res['name'] = filename\n",
    "#         print(\"filename = \" + str(filename))\n",
    "        file_name_raw = os.path.join(prefix_raw_data, filename)\n",
    "        file_name_clean = os.path.join(prefix_clean_data, filename)\n",
    "        count = calc_sentiment_score(file_name_clean)\n",
    "\n",
    "        wilson_review_score = calc_review_score(file_name_raw)\n",
    "        wilson_sentiment_score = wilson_score(count, 30, p_z=1.96)\n",
    "        bayes_sentiment_score = Bayesian(C, M, 30, wilson_s)\n",
    "        bayes_review_score = Bayesian(C, M, 30, wilson_review_score)\n",
    "        res['wilson_review_score'] = wilson_review_score\n",
    "        res['wilson_sentiment_score'] = wilson_sentiment_score\n",
    "        res['bayes_sentiment_score'] = bayes_sentiment_score\n",
    "        res['bayes_review_score'] = bayes_review_score\n",
    "#         print(bayes_sentiment_score)\n",
    "#         print(bayes_review_score)\n",
    "        res['final_score'] = 10 * (bayes_sentiment_score+bayes_review_score) / 2\n",
    "        res_list.append(res)\n",
    "\n",
    "#         print(str(res['final_score']))"
   ]
  },
  {
   "cell_type": "code",
   "execution_count": 16,
   "metadata": {},
   "outputs": [],
   "source": [
    "save2json(res_list,\"final_score.json\")"
   ]
  }
 ],
 "metadata": {
  "kernelspec": {
   "display_name": "Python 3",
   "language": "python",
   "name": "python3"
  },
  "language_info": {
   "codemirror_mode": {
    "name": "ipython",
    "version": 3
   },
   "file_extension": ".py",
   "mimetype": "text/x-python",
   "name": "python",
   "nbconvert_exporter": "python",
   "pygments_lexer": "ipython3",
   "version": "3.7.3"
  }
 },
 "nbformat": 4,
 "nbformat_minor": 2
}
