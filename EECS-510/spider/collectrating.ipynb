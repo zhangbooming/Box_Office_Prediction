{
 "cells": [
  {
   "cell_type": "code",
   "execution_count": 14,
   "metadata": {},
   "outputs": [],
   "source": [
    "from selenium import webdriver\n",
    "import pandas as pd\n",
    "import re\n",
    "from bs4 import BeautifulSoup as Soup\n",
    "browser =  webdriver.Chrome(executable_path='/Users/tingying/Desktop/class spring 2019/510 media mining/crawler/chromedriver')\n",
    "f = open('rating.txt','a')\n",
    "\n",
    "webhead = 'https://www.imdb.com/title/'\n",
    "webrear = '/?ref_=nv_sr_1?ref_=nv_sr_1'\n",
    "df_1 = pd.read_csv(\"train.csv\",error_bad_lines=False)\n",
    "df_1 = pd.DataFrame(df_1)\n",
    "\n",
    "for row1 in df_1.itertuples(index=False, name='Pandas'):\n",
    "    imdbid = getattr(row1, \"imdb_id\")\n",
    "    url = webhead + imdbid + webrear\n",
    "    browser.get(url)\n",
    "    source = browser.page_source\n",
    "    soup = Soup(source)\n",
    "    rate = soup.find('span', attrs={\"itemprop\" : \"ratingValue\"})\n",
    "    #rate.text is what we want\n",
    "    f.write(rate.text+'\\n')\n",
    "\n",
    "f.close()"
   ]
  },
  {
   "cell_type": "code",
   "execution_count": null,
   "metadata": {},
   "outputs": [],
   "source": []
  }
 ],
 "metadata": {
  "kernelspec": {
   "display_name": "Python 3",
   "language": "python",
   "name": "python3"
  },
  "language_info": {
   "codemirror_mode": {
    "name": "ipython",
    "version": 3
   },
   "file_extension": ".py",
   "mimetype": "text/x-python",
   "name": "python",
   "nbconvert_exporter": "python",
   "pygments_lexer": "ipython3",
   "version": "3.7.1"
  }
 },
 "nbformat": 4,
 "nbformat_minor": 2
}
